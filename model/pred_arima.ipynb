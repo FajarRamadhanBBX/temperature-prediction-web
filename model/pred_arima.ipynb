{
 "cells": [
  {
   "cell_type": "code",
   "execution_count": 33,
   "metadata": {},
   "outputs": [],
   "source": [
    "import pandas as pd"
   ]
  },
  {
   "cell_type": "code",
   "execution_count": 34,
   "metadata": {},
   "outputs": [],
   "source": [
    "data_juni23 = pd.read_csv('../data/juni 2023.csv')\n",
    "data_juli23 = pd.read_csv('../data/juli 2023.csv')\n",
    "data_agustus23 = pd.read_csv('../data/agustus 2023.csv')\n",
    "data_september23 = pd.read_csv('../data/september 2023.csv')\n",
    "data_oktober23 = pd.read_csv('../data/oktober 2023.csv')\n",
    "data_november23 = pd.read_csv('../data/november 2023.csv')\n",
    "data_desember23 = pd.read_csv('../data/desember 2023.csv')\n",
    "data_januari24 = pd.read_csv('../data/januari 2024.csv')\n",
    "data_februari24 = pd.read_csv('../data/februari 2024.csv')\n",
    "data_maret24 = pd.read_csv('../data/maret 2024.csv')\n",
    "data_april24 = pd.read_csv('../data/april 2024.csv')\n",
    "data_mei24 = pd.read_csv('../data/mei 2024.csv')\n",
    "data_juni24 = pd.read_csv('../data/juni 2024.csv')"
   ]
  },
  {
   "cell_type": "code",
   "execution_count": 35,
   "metadata": {},
   "outputs": [],
   "source": [
    "juni23 = data_juni23.iloc[8:38]\n",
    "juli23 = data_juli23.iloc[8:39]\n",
    "agustus23 = data_agustus23.iloc[8:39]\n",
    "september23 = data_september23.iloc[8:38]\n",
    "oktober23 = data_oktober23.iloc[8:39]\n",
    "november23 = data_november23.iloc[8:38]\n",
    "desember23 = data_desember23.iloc[8:39]\n",
    "januari24 = data_januari24.iloc[8:39]\n",
    "februari24 = data_februari24.iloc[8:37]\n",
    "maret24 = data_maret24.iloc[8:39]\n",
    "april24 = data_april24.iloc[8:38]\n",
    "mei24 = data_mei24.iloc[8:38]\n",
    "juni24 = data_juni24.iloc[8:38]"
   ]
  },
  {
   "cell_type": "code",
   "execution_count": 36,
   "metadata": {},
   "outputs": [],
   "source": [
    "df = pd.concat([juni23, juli23, agustus23, september23, oktober23, november23, desember23, januari24, februari24, maret24, april24, mei24, juni24])\n",
    "df.columns = ['tanggal', 'suhu min', 'suhu maks', 'suhu rata', 'lama penyinaran matahari']"
   ]
  },
  {
   "cell_type": "code",
   "execution_count": 37,
   "metadata": {},
   "outputs": [],
   "source": [
    "df['tanggal'] = pd.to_datetime(df['tanggal'], format='%d-%m-%Y')\n",
    "df[['suhu min', 'suhu maks', 'suhu rata', 'lama penyinaran matahari']] = df[\n",
    "    ['suhu min', 'suhu maks', 'suhu rata', 'lama penyinaran matahari']\n",
    "    ].astype(float)"
   ]
  },
  {
   "cell_type": "code",
   "execution_count": 38,
   "metadata": {},
   "outputs": [
    {
     "data": {
      "text/html": [
       "<div>\n",
       "<style scoped>\n",
       "    .dataframe tbody tr th:only-of-type {\n",
       "        vertical-align: middle;\n",
       "    }\n",
       "\n",
       "    .dataframe tbody tr th {\n",
       "        vertical-align: top;\n",
       "    }\n",
       "\n",
       "    .dataframe thead th {\n",
       "        text-align: right;\n",
       "    }\n",
       "</style>\n",
       "<table border=\"1\" class=\"dataframe\">\n",
       "  <thead>\n",
       "    <tr style=\"text-align: right;\">\n",
       "      <th></th>\n",
       "      <th>tanggal</th>\n",
       "      <th>suhu min</th>\n",
       "      <th>suhu maks</th>\n",
       "      <th>suhu rata</th>\n",
       "      <th>lama penyinaran matahari</th>\n",
       "    </tr>\n",
       "  </thead>\n",
       "  <tbody>\n",
       "    <tr>\n",
       "      <th>8</th>\n",
       "      <td>2023-06-02</td>\n",
       "      <td>26.0</td>\n",
       "      <td>34.4</td>\n",
       "      <td>29.9</td>\n",
       "      <td>6.5</td>\n",
       "    </tr>\n",
       "    <tr>\n",
       "      <th>9</th>\n",
       "      <td>2023-06-03</td>\n",
       "      <td>27.0</td>\n",
       "      <td>33.8</td>\n",
       "      <td>30.2</td>\n",
       "      <td>5.7</td>\n",
       "    </tr>\n",
       "    <tr>\n",
       "      <th>10</th>\n",
       "      <td>2023-06-04</td>\n",
       "      <td>27.8</td>\n",
       "      <td>32.8</td>\n",
       "      <td>29.5</td>\n",
       "      <td>6.2</td>\n",
       "    </tr>\n",
       "    <tr>\n",
       "      <th>11</th>\n",
       "      <td>2023-06-05</td>\n",
       "      <td>27.2</td>\n",
       "      <td>33.6</td>\n",
       "      <td>29.6</td>\n",
       "      <td>4.0</td>\n",
       "    </tr>\n",
       "    <tr>\n",
       "      <th>12</th>\n",
       "      <td>2023-06-06</td>\n",
       "      <td>26.0</td>\n",
       "      <td>31.6</td>\n",
       "      <td>27.8</td>\n",
       "      <td>4.4</td>\n",
       "    </tr>\n",
       "    <tr>\n",
       "      <th>...</th>\n",
       "      <td>...</td>\n",
       "      <td>...</td>\n",
       "      <td>...</td>\n",
       "      <td>...</td>\n",
       "      <td>...</td>\n",
       "    </tr>\n",
       "    <tr>\n",
       "      <th>33</th>\n",
       "      <td>2024-06-27</td>\n",
       "      <td>26.0</td>\n",
       "      <td>33.2</td>\n",
       "      <td>29.7</td>\n",
       "      <td>7.0</td>\n",
       "    </tr>\n",
       "    <tr>\n",
       "      <th>34</th>\n",
       "      <td>2024-06-28</td>\n",
       "      <td>27.4</td>\n",
       "      <td>33.4</td>\n",
       "      <td>29.6</td>\n",
       "      <td>5.5</td>\n",
       "    </tr>\n",
       "    <tr>\n",
       "      <th>35</th>\n",
       "      <td>2024-06-29</td>\n",
       "      <td>27.4</td>\n",
       "      <td>33.2</td>\n",
       "      <td>27.3</td>\n",
       "      <td>6.5</td>\n",
       "    </tr>\n",
       "    <tr>\n",
       "      <th>36</th>\n",
       "      <td>2024-06-30</td>\n",
       "      <td>25.4</td>\n",
       "      <td>33.0</td>\n",
       "      <td>29.4</td>\n",
       "      <td>0.6</td>\n",
       "    </tr>\n",
       "    <tr>\n",
       "      <th>37</th>\n",
       "      <td>2024-07-01</td>\n",
       "      <td>26.0</td>\n",
       "      <td>32.0</td>\n",
       "      <td>29.7</td>\n",
       "      <td>6.0</td>\n",
       "    </tr>\n",
       "  </tbody>\n",
       "</table>\n",
       "<p>395 rows × 5 columns</p>\n",
       "</div>"
      ],
      "text/plain": [
       "      tanggal  suhu min  suhu maks  suhu rata  lama penyinaran matahari\n",
       "8  2023-06-02      26.0       34.4       29.9                       6.5\n",
       "9  2023-06-03      27.0       33.8       30.2                       5.7\n",
       "10 2023-06-04      27.8       32.8       29.5                       6.2\n",
       "11 2023-06-05      27.2       33.6       29.6                       4.0\n",
       "12 2023-06-06      26.0       31.6       27.8                       4.4\n",
       "..        ...       ...        ...        ...                       ...\n",
       "33 2024-06-27      26.0       33.2       29.7                       7.0\n",
       "34 2024-06-28      27.4       33.4       29.6                       5.5\n",
       "35 2024-06-29      27.4       33.2       27.3                       6.5\n",
       "36 2024-06-30      25.4       33.0       29.4                       0.6\n",
       "37 2024-07-01      26.0       32.0       29.7                       6.0\n",
       "\n",
       "[395 rows x 5 columns]"
      ]
     },
     "execution_count": 38,
     "metadata": {},
     "output_type": "execute_result"
    }
   ],
   "source": [
    "df"
   ]
  },
  {
   "cell_type": "code",
   "execution_count": 39,
   "metadata": {},
   "outputs": [
    {
     "data": {
      "text/plain": [
       "tanggal       0\n",
       "suhu min     24\n",
       "suhu maks     3\n",
       "suhu rata     1\n",
       "dtype: int64"
      ]
     },
     "execution_count": 39,
     "metadata": {},
     "output_type": "execute_result"
    }
   ],
   "source": [
    "df = df.drop(columns=['lama penyinaran matahari'])\n",
    "df.isnull().sum()"
   ]
  },
  {
   "cell_type": "code",
   "execution_count": 40,
   "metadata": {},
   "outputs": [
    {
     "data": {
      "text/html": [
       "<div>\n",
       "<style scoped>\n",
       "    .dataframe tbody tr th:only-of-type {\n",
       "        vertical-align: middle;\n",
       "    }\n",
       "\n",
       "    .dataframe tbody tr th {\n",
       "        vertical-align: top;\n",
       "    }\n",
       "\n",
       "    .dataframe thead th {\n",
       "        text-align: right;\n",
       "    }\n",
       "</style>\n",
       "<table border=\"1\" class=\"dataframe\">\n",
       "  <thead>\n",
       "    <tr style=\"text-align: right;\">\n",
       "      <th></th>\n",
       "      <th>tanggal</th>\n",
       "      <th>suhu min</th>\n",
       "      <th>suhu maks</th>\n",
       "      <th>suhu rata</th>\n",
       "    </tr>\n",
       "  </thead>\n",
       "  <tbody>\n",
       "    <tr>\n",
       "      <th>8</th>\n",
       "      <td>2023-06-02</td>\n",
       "      <td>26.0</td>\n",
       "      <td>34.4</td>\n",
       "      <td>29.9</td>\n",
       "    </tr>\n",
       "    <tr>\n",
       "      <th>9</th>\n",
       "      <td>2023-06-03</td>\n",
       "      <td>27.0</td>\n",
       "      <td>33.8</td>\n",
       "      <td>30.2</td>\n",
       "    </tr>\n",
       "    <tr>\n",
       "      <th>10</th>\n",
       "      <td>2023-06-04</td>\n",
       "      <td>27.8</td>\n",
       "      <td>32.8</td>\n",
       "      <td>29.5</td>\n",
       "    </tr>\n",
       "    <tr>\n",
       "      <th>11</th>\n",
       "      <td>2023-06-05</td>\n",
       "      <td>27.2</td>\n",
       "      <td>33.6</td>\n",
       "      <td>29.6</td>\n",
       "    </tr>\n",
       "    <tr>\n",
       "      <th>12</th>\n",
       "      <td>2023-06-06</td>\n",
       "      <td>26.0</td>\n",
       "      <td>31.6</td>\n",
       "      <td>27.8</td>\n",
       "    </tr>\n",
       "    <tr>\n",
       "      <th>...</th>\n",
       "      <td>...</td>\n",
       "      <td>...</td>\n",
       "      <td>...</td>\n",
       "      <td>...</td>\n",
       "    </tr>\n",
       "    <tr>\n",
       "      <th>33</th>\n",
       "      <td>2024-06-27</td>\n",
       "      <td>26.0</td>\n",
       "      <td>33.2</td>\n",
       "      <td>29.7</td>\n",
       "    </tr>\n",
       "    <tr>\n",
       "      <th>34</th>\n",
       "      <td>2024-06-28</td>\n",
       "      <td>27.4</td>\n",
       "      <td>33.4</td>\n",
       "      <td>29.6</td>\n",
       "    </tr>\n",
       "    <tr>\n",
       "      <th>35</th>\n",
       "      <td>2024-06-29</td>\n",
       "      <td>27.4</td>\n",
       "      <td>33.2</td>\n",
       "      <td>27.3</td>\n",
       "    </tr>\n",
       "    <tr>\n",
       "      <th>36</th>\n",
       "      <td>2024-06-30</td>\n",
       "      <td>25.4</td>\n",
       "      <td>33.0</td>\n",
       "      <td>29.4</td>\n",
       "    </tr>\n",
       "    <tr>\n",
       "      <th>37</th>\n",
       "      <td>2024-07-01</td>\n",
       "      <td>26.0</td>\n",
       "      <td>32.0</td>\n",
       "      <td>29.7</td>\n",
       "    </tr>\n",
       "  </tbody>\n",
       "</table>\n",
       "<p>395 rows × 4 columns</p>\n",
       "</div>"
      ],
      "text/plain": [
       "      tanggal  suhu min  suhu maks  suhu rata\n",
       "8  2023-06-02      26.0       34.4       29.9\n",
       "9  2023-06-03      27.0       33.8       30.2\n",
       "10 2023-06-04      27.8       32.8       29.5\n",
       "11 2023-06-05      27.2       33.6       29.6\n",
       "12 2023-06-06      26.0       31.6       27.8\n",
       "..        ...       ...        ...        ...\n",
       "33 2024-06-27      26.0       33.2       29.7\n",
       "34 2024-06-28      27.4       33.4       29.6\n",
       "35 2024-06-29      27.4       33.2       27.3\n",
       "36 2024-06-30      25.4       33.0       29.4\n",
       "37 2024-07-01      26.0       32.0       29.7\n",
       "\n",
       "[395 rows x 4 columns]"
      ]
     },
     "execution_count": 40,
     "metadata": {},
     "output_type": "execute_result"
    }
   ],
   "source": [
    "df"
   ]
  },
  {
   "cell_type": "code",
   "execution_count": 41,
   "metadata": {},
   "outputs": [],
   "source": [
    "# df.set_index('tanggal', inplace=True)\n",
    "# df"
   ]
  },
  {
   "cell_type": "code",
   "execution_count": 42,
   "metadata": {},
   "outputs": [
    {
     "name": "stderr",
     "output_type": "stream",
     "text": [
      "/home/user/machine-learning/virtual-environment/venv9/lib/python3.9/site-packages/statsmodels/tsa/base/tsa_model.py:473: ValueWarning: An unsupported index was provided and will be ignored when e.g. forecasting.\n",
      "  self._init_dates(dates, freq)\n",
      "/home/user/machine-learning/virtual-environment/venv9/lib/python3.9/site-packages/statsmodels/tsa/base/tsa_model.py:473: ValueWarning: An unsupported index was provided and will be ignored when e.g. forecasting.\n",
      "  self._init_dates(dates, freq)\n",
      "/home/user/machine-learning/virtual-environment/venv9/lib/python3.9/site-packages/statsmodels/tsa/base/tsa_model.py:473: ValueWarning: An unsupported index was provided and will be ignored when e.g. forecasting.\n",
      "  self._init_dates(dates, freq)\n"
     ]
    }
   ],
   "source": [
    "from statsmodels.tsa.arima.model import ARIMA\n",
    "\n",
    "model = ARIMA(df['suhu rata'], order=(5, 0, 0))\n",
    "model_fit = model.fit()"
   ]
  },
  {
   "cell_type": "code",
   "execution_count": 54,
   "metadata": {},
   "outputs": [
    {
     "data": {
      "image/png": "[encoded data removed]",
      "text/plain": [
       "<Figure size 640x480 with 1 Axes>"
      ]
     },
     "metadata": {},
     "output_type": "display_data"
    }
   ],
   "source": [
    "x = df.iloc[:7]\n",
    "plt.plot(x['tanggal'], x['suhu rata'])\n",
    "plt.show()"
   ]
  },
  {
   "cell_type": "code",
   "execution_count": 43,
   "metadata": {},
   "outputs": [
    {
     "name": "stderr",
     "output_type": "stream",
     "text": [
      "/home/user/machine-learning/virtual-environment/venv9/lib/python3.9/site-packages/statsmodels/tsa/base/tsa_model.py:836: ValueWarning: No supported index is available. Prediction results will be given with an integer index beginning at `start`.\n",
      "  return get_prediction_index(\n",
      "/home/user/machine-learning/virtual-environment/venv9/lib/python3.9/site-packages/statsmodels/tsa/base/tsa_model.py:836: FutureWarning: No supported index is available. In the next version, calling this method in a model without a supported index will result in an exception.\n",
      "  return get_prediction_index(\n"
     ]
    },
    {
     "data": {
      "text/plain": [
       "<Axes: >"
      ]
     },
     "execution_count": 43,
     "metadata": {},
     "output_type": "execute_result"
    },
    {
     "data": {
      "image/png": "[encoded data removed]",
      "text/plain": [
       "<Figure size 640x480 with 1 Axes>"
      ]
     },
     "metadata": {},
     "output_type": "display_data"
    }
   ],
   "source": [
    "forecast = model_fit.forecast(steps=7)\n",
    "forecast.plot()"
   ]
  },
  {
   "cell_type": "code",
   "execution_count": 45,
   "metadata": {},
   "outputs": [],
   "source": [
    "# import joblib\n",
    "\n",
    "# joblib.dump(model_fit, 'model_prediction.joblib')"
   ]
  },
  {
   "cell_type": "code",
   "execution_count": 46,
   "metadata": {},
   "outputs": [],
   "source": [
    "# import joblib\n",
    "\n",
    "# load_model = joblib.load('model_prediction.joblib')\n",
    "# x = load_model.forecast(steps=10)\n",
    "# x"
   ]
  },
  {
   "cell_type": "code",
   "execution_count": 5,
   "metadata": {},
   "outputs": [
    {
     "name": "stdout",
     "output_type": "stream",
     "text": [
      "<class 'list'>\n"
     ]
    }
   ],
   "source": [
    "from datetime import datetime, date\n",
    "import pandas as pd\n",
    "\n",
    "def date_range(last_date, predict_date):\n",
    "    \"\"\"\n",
    "    Range of date from last date to predict date\n",
    "    \"\"\"\n",
    "    last_date = datetime.strptime(last_date, \"%Y-%m-%d\")\n",
    "    predict_date = datetime.strptime(predict_date, \"%Y-%m-%d\")\n",
    "    date = pd.date_range(last_date, predict_date)\n",
    "    date = date[1:]\n",
    "    date = date.tolist()\n",
    "    return date\n",
    "\n",
    "x = date_range('2023-11-03','2023-11-10')\n",
    "print(type(x))"
   ]
  },
  {
   "cell_type": "code",
   "execution_count": 59,
   "metadata": {},
   "outputs": [
    {
     "name": "stdout",
     "output_type": "stream",
     "text": [
      "        date  data\n",
      "0 2023-11-03    12\n",
      "1 2023-11-04    12\n",
      "2 2023-11-05    31\n",
      "3 2023-11-06    23\n",
      "4 2023-11-07    12\n",
      "5 2023-11-08    51\n",
      "6 2023-11-09    21\n",
      "7 2023-11-10    21\n"
     ]
    }
   ],
   "source": [
    "x = pd.DataFrame(x, columns=['date'])\n",
    "x['data'] = [12,12,31,23,12,51,21,21]\n",
    "print(x)"
   ]
  },
  {
   "cell_type": "code",
   "execution_count": 68,
   "metadata": {},
   "outputs": [
    {
     "data": {
      "image/png": "[encoded data removed]",
      "text/plain": [
       "<Figure size 640x480 with 1 Axes>"
      ]
     },
     "metadata": {},
     "output_type": "display_data"
    }
   ],
   "source": [
    "plt.plot(x['date'],x['data'])\n",
    "plt.show()\n",
    "# x['data'].plot()"
   ]
  },
  {
   "cell_type": "code",
   "execution_count": 7,
   "metadata": {},
   "outputs": [
    {
     "name": "stdout",
     "output_type": "stream",
     "text": [
      "['2024-07-02', '2024-07-03', '2024-07-04', '2024-07-05']\n",
      "[29.428712222291804, 29.30897567133129, 29.181635825672114, 29.261602302975344]\n"
     ]
    },
    {
     "name": "stderr",
     "output_type": "stream",
     "text": [
      "/home/user/machine-learning/virtual-environment/venv9/lib/python3.9/site-packages/statsmodels/tsa/base/tsa_model.py:836: ValueWarning: No supported index is available. Prediction results will be given with an integer index beginning at `start`.\n",
      "  return get_prediction_index(\n",
      "/home/user/machine-learning/virtual-environment/venv9/lib/python3.9/site-packages/statsmodels/tsa/base/tsa_model.py:836: FutureWarning: No supported index is available. In the next version, calling this method in a model without a supported index will result in an exception.\n",
      "  return get_prediction_index(\n"
     ]
    }
   ],
   "source": [
    "import joblib\n",
    "import pandas as pd\n",
    "from datetime import date, datetime\n",
    "\n",
    "model = joblib.load('model_prediction.joblib')\n",
    "\n",
    "def date_range(last_date, predict_date):\n",
    "    \"\"\"\n",
    "    Range of date from last date to predict date\n",
    "    \"\"\"\n",
    "    last_date = datetime.strptime(last_date, \"%Y-%m-%d\")\n",
    "    predict_date = datetime.strptime(predict_date, \"%Y-%m-%d\")\n",
    "    date = pd.date_range(last_date, predict_date)\n",
    "    date = date[1:]\n",
    "    date = [d.strftime(\"%Y-%m-%d\") for d in date]\n",
    "    # date = date.tolist()\n",
    "    return date\n",
    "\n",
    "def n_days_predicted(last_date, predict_date):\n",
    "    \"\"\"\n",
    "    Counting the days from today to predict day\n",
    "    \"\"\"\n",
    "    last_date = datetime.strptime(last_date, \"%Y-%m-%d\")\n",
    "    predict_date = datetime.strptime(predict_date, \"%Y-%m-%d\")\n",
    "    n = predict_date-last_date\n",
    "    n = n.days\n",
    "    return n\n",
    "\n",
    "\n",
    "def forecast(model, days):\n",
    "    \"\"\"\n",
    "    Forecasting the average temperature\n",
    "    \"\"\"\n",
    "    forecast = model.forecast(days)\n",
    "    forecast = forecast.tolist()\n",
    "    return forecast\n",
    "\n",
    "def predict(model, last_date, predict_date):\n",
    "    \"\"\"\n",
    "    Predicting the average temperature\n",
    "    \"\"\"\n",
    "    date = date_range(last_date, predict_date)\n",
    "    days = n_days_predicted(last_date, predict_date)\n",
    "    pred = forecast(model, days)\n",
    "    return date, pred\n",
    "\n",
    "x,y = predict(model, \"2024-07-01\", \"2024-07-05\")\n",
    "\n",
    "print(x)\n",
    "print(y)"
   ]
  },
  {
   "cell_type": "code",
   "execution_count": 6,
   "metadata": {},
   "outputs": [
    {
     "name": "stdout",
     "output_type": "stream",
     "text": [
      "2023-05-03 00:00:00\n"
     ]
    }
   ],
   "source": [
    "import pandas as pd\n",
    "\n",
    "x = pd.to_datetime(\"2023-05-01\") + pd.DateOffset(days=2)\n",
    "print(x)"
   ]
  }
 ],
 "metadata": {
  "kernelspec": {
   "display_name": "Python 3",
   "language": "python",
   "name": "python3"
  },
  "language_info": {
   "codemirror_mode": {
    "name": "ipython",
    "version": 3
   },
   "file_extension": ".py",
   "mimetype": "text/x-python",
   "name": "python",
   "nbconvert_exporter": "python",
   "pygments_lexer": "ipython3",
   "version": "3.9.19"
  }
 },
 "nbformat": 4,
 "nbformat_minor": 2
}
